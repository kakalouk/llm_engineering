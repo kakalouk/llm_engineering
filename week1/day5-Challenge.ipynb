{
 "cells": [
  {
   "cell_type": "markdown",
   "id": "a98030af-fcd1-4d63-a36e-38ba053498fa",
   "metadata": {},
   "source": [
    "# A full business solution\n",
    "\n",
    "## Now we will take our project from Day 1 to the next level\n",
    "\n",
    "### BUSINESS CHALLENGE:\n",
    "\n",
    "Create a product that builds a Brochure for a company to be used for prospective clients, investors and potential recruits.\n",
    "\n",
    "We will be provided a company name and their primary website.\n",
    "\n",
    "See the end of this notebook for examples of real-world business applications.\n",
    "\n",
    "And remember: I'm always available if you have problems or ideas! Please do reach out."
   ]
  },
  {
   "cell_type": "code",
   "execution_count": 1,
   "id": "d5b08506-dc8b-4443-9201-5f1848161363",
   "metadata": {},
   "outputs": [],
   "source": [
    "# imports\n",
    "import os\n",
    "import requests\n",
    "import json\n",
    "from typing import List\n",
    "from dotenv import load_dotenv\n",
    "from bs4 import BeautifulSoup\n",
    "from IPython.display import Markdown, display, update_display\n",
    "from openai import OpenAI"
   ]
  },
  {
   "cell_type": "code",
   "execution_count": 2,
   "id": "fc5d8880-f2ee-4c06-af16-ecbc0262af61",
   "metadata": {},
   "outputs": [
    {
     "name": "stdout",
     "output_type": "stream",
     "text": [
      "API key looks good so far\n"
     ]
    }
   ],
   "source": [
    "# Initialize and constants\n",
    "\n",
    "load_dotenv()\n",
    "api_key = os.getenv('OPENAI_API_KEY')\n",
    "\n",
    "if api_key and api_key.startswith('sk-proj-') and len(api_key)>10:\n",
    "    print(\"API key looks good so far\")\n",
    "else:\n",
    "    print(\"There might be a problem with your API key? Please visit the troubleshooting notebook!\")\n",
    "    \n",
    "MODEL = 'gpt-4o-mini'\n",
    "openai = OpenAI()"
   ]
  },
  {
   "cell_type": "code",
   "execution_count": 3,
   "id": "106dd65e-90af-4ca8-86b6-23a41840645b",
   "metadata": {},
   "outputs": [],
   "source": [
    "# A class to represent a Webpage\n",
    "\n",
    "class Website:\n",
    "    \"\"\"\n",
    "    A utility class to represent a Website that we have scraped, now with links\n",
    "    \"\"\"\n",
    "\n",
    "    def __init__(self, url):\n",
    "        self.url = url\n",
    "        response = requests.get(url)\n",
    "        self.body = response.content\n",
    "        soup = BeautifulSoup(self.body, 'html.parser')\n",
    "        self.title = soup.title.string if soup.title else \"No title found\"\n",
    "        if soup.body:\n",
    "            for irrelevant in soup.body([\"script\", \"style\", \"img\", \"input\"]):\n",
    "                irrelevant.decompose()\n",
    "            self.text = soup.body.get_text(separator=\"\\n\", strip=True)\n",
    "        else:\n",
    "            self.text = \"\"\n",
    "        links = [link.get('href') for link in soup.find_all('a')]\n",
    "        self.links = [link for link in links if link]\n",
    "\n",
    "    def get_contents(self):\n",
    "        return f\"Webpage Title:\\n{self.title}\\nWebpage Contents:\\n{self.text}\\n\\n\""
   ]
  },
  {
   "cell_type": "markdown",
   "id": "1771af9c-717a-4fca-bbbe-8a95893312c3",
   "metadata": {},
   "source": [
    "## First step: Have GPT-4o-mini figure out which links are relevant\n",
    "\n",
    "### Use a call to gpt-4o-mini to read the links on a webpage, and respond in structured JSON.  \n",
    "It should decide which links are relevant, and replace relative links such as \"/about\" with \"https://company.com/about\".  \n",
    "We will use \"one shot prompting\" in which we provide an example of how it should respond in the prompt.\n",
    "\n",
    "This is an excellent use case for an LLM, because it requires nuanced understanding. Imagine trying to code this without LLMs by parsing and analyzing the webpage - it would be very hard!\n",
    "\n",
    "Sidenote: there is a more advanced technique called \"Structured Outputs\" in which we require the model to respond according to a spec. We cover this technique in Week 8 during our autonomous Agentic AI project."
   ]
  },
  {
   "cell_type": "code",
   "execution_count": 4,
   "id": "c8eceee9-81e0-4af3-ae6e-5b892b31c0e8",
   "metadata": {},
   "outputs": [],
   "source": [
    "link_system_prompt = (\n",
    "    \"You are provided with a list of links found on a webpage. \"\n",
    "    \"You are able to decide which of the links would be most relevant to include in a brochure about the company, \"\n",
    "    \"such as links to an About page, or a Company page, or Careers/Jobs pages.\\n\"\n",
    ")\n",
    "# Add multiple examples for multi-shot prompting\n",
    "link_system_prompt += \"You should respond in JSON as in these examples below:\\n\"\n",
    "\n",
    "link_system_prompt += \"\"\"\n",
    "Example 1:\n",
    "Links:\n",
    "- https://example.com/about\n",
    "- https://example.com/careers\n",
    "- https://example.com/contact\n",
    "- https://example.com/privacy-policy\n",
    "\n",
    "Response:\n",
    "{\n",
    "    \"links\": [\n",
    "        {\"type\": \"about page\", \"url\": \"https://example.com/about\"},\n",
    "        {\"type\": \"careers page\", \"url\": \"https://example.com/careers\"}\n",
    "    ]\n",
    "}\n",
    "\n",
    "Example 2:\n",
    "Links:\n",
    "- /company/history\n",
    "- /company/jobs\n",
    "- /company/blog\n",
    "- /terms-of-service\n",
    "\n",
    "Response:\n",
    "{\n",
    "    \"links\": [\n",
    "        {\"type\": \"about page\", \"url\": \"https://full.url/company/history\"},\n",
    "        {\"type\": \"careers page\", \"url\": \"https://full.url/company/jobs\"}\n",
    "    ]\n",
    "}\n",
    "\"\"\"\n",
    "# Add instruction after examples\n",
    "link_system_prompt += \"\\nNow process the following list of links:\\n\""
   ]
  },
  {
   "cell_type": "code",
   "execution_count": null,
   "id": "b97e4068-97ed-4120-beae-c42105e4d59a",
   "metadata": {},
   "outputs": [],
   "source": [
    "print(link_system_prompt)"
   ]
  },
  {
   "cell_type": "code",
   "execution_count": 5,
   "id": "8e1f601b-2eaf-499d-b6b8-c99050c9d6b3",
   "metadata": {},
   "outputs": [],
   "source": [
    "def get_links_user_prompt(website):\n",
    "    user_prompt = f\"Here is the list of links on the website of {website.url} - \"\n",
    "    user_prompt += \"please decide which of these are relevant web links for a brochure about the company. \\\n",
    "    Do not include Terms of Service, Privacy, email links.\\n\"\n",
    "    user_prompt += \"Links (some might be relative links):\\n\"\n",
    "    user_prompt += \"\\n\".join(website.links)\n",
    "    user_prompt += \"\\n Please respond in JSON format as shown in the examples above.\"\n",
    "    return user_prompt"
   ]
  },
  {
   "cell_type": "code",
   "execution_count": null,
   "id": "6bcbfa78-6395-4685-b92c-22d592050fd7",
   "metadata": {},
   "outputs": [],
   "source": [
    "print(get_links_user_prompt(ed))"
   ]
  },
  {
   "cell_type": "code",
   "execution_count": 6,
   "id": "a29aca19-ca13-471c-a4b4-5abbfa813f69",
   "metadata": {},
   "outputs": [],
   "source": [
    "def get_links(url):\n",
    "    website = Website(url)\n",
    "    response = openai.chat.completions.create(\n",
    "        model=MODEL,\n",
    "        messages=[\n",
    "            {\"role\": \"system\", \"content\": link_system_prompt},\n",
    "            {\"role\": \"user\", \"content\": get_links_user_prompt(website)}\n",
    "      ],\n",
    "        response_format={\"type\": \"json_object\"}\n",
    "    )\n",
    "    result = response.choices[0].message.content\n",
    "    return json.loads(result)"
   ]
  },
  {
   "cell_type": "code",
   "execution_count": null,
   "id": "74a827a0-2782-4ae5-b210-4a242a8b4cc2",
   "metadata": {},
   "outputs": [],
   "source": [
    "anthropic = Website(\"https://anthropic.com\")\n",
    "anthropic.links"
   ]
  },
  {
   "cell_type": "code",
   "execution_count": null,
   "id": "d3d583e2-dcc4-40cc-9b28-1e8dbf402924",
   "metadata": {},
   "outputs": [],
   "source": [
    "get_links(\"https://anthropic.com\")"
   ]
  },
  {
   "cell_type": "markdown",
   "id": "0d74128e-dfb6-47ec-9549-288b621c838c",
   "metadata": {},
   "source": [
    "## Second step: make the brochure!\n",
    "\n",
    "Assemble all the details into another prompt to GPT4-o"
   ]
  },
  {
   "cell_type": "code",
   "execution_count": 7,
   "id": "85a5b6e2-e7ef-44a9-bc7f-59ede71037b5",
   "metadata": {},
   "outputs": [],
   "source": [
    "def get_all_details(url):\n",
    "    result = \"Landing page:\\n\"\n",
    "    result += Website(url).get_contents()\n",
    "    links = get_links(url)\n",
    "    print(\"Found links:\", links)\n",
    "    for link in links[\"links\"]:\n",
    "        result += f\"\\n\\n{link['type']}\\n\"\n",
    "        result += Website(link[\"url\"]).get_contents()\n",
    "    return result"
   ]
  },
  {
   "cell_type": "code",
   "execution_count": null,
   "id": "5099bd14-076d-4745-baf3-dac08d8e5ab2",
   "metadata": {},
   "outputs": [],
   "source": [
    "print(get_all_details(\"https://anthropic.com\"))"
   ]
  },
  {
   "cell_type": "code",
   "execution_count": 8,
   "id": "b2f3096d-94c6-4d8d-a707-22528994f5d7",
   "metadata": {},
   "outputs": [],
   "source": [
    "system_prompt = \"\"\" You are an assistant that analyzes the contents of several relevant pages from a company website and creates a professional brochure about\n",
    "the company for prospective customers, investors, and recruits. Respond in markdown format.\n",
    "\n",
    "The brochure should be organized into the following sections:\n",
    "\n",
    "1. **About Us**:\n",
    "   - Provide a brief overview of the company, including its mission, vision, and history.\n",
    "   - Highlight key achievements or milestones.\n",
    "\n",
    "2. **Our Products/Services**:\n",
    "   - List the primary products or services the company offers.\n",
    "   - Mention any unique selling points or innovative solutions.\n",
    "\n",
    "3. **Our Customers**:\n",
    "   - Describe the company's target audience or customer base.\n",
    "   - Include examples of notable clients or industries served, if available.\n",
    "\n",
    "4. **Company Culture**:\n",
    "   - Highlight the company's values, work environment, and approach to teamwork.\n",
    "   - Mention any initiatives related to employee well-being, diversity, or sustainability.\n",
    "\n",
    "5. **Careers/Jobs**:\n",
    "   - Include details about career opportunities, workplace benefits, or training programs.\n",
    "   - Mention how potential recruits can apply or explore more.\n",
    "\n",
    "6. **Contact Us**:\n",
    "   - Provide a summary of how to get in touch with the company (e.g., email, phone, location, or a link to the Contact page).\n",
    "\n",
    "Make the brochure concise yet informative, using engaging language suitable for prospective customers, investors, and recruits.\"\"\""
   ]
  },
  {
   "cell_type": "code",
   "execution_count": 9,
   "id": "6ab83d92-d36b-4ce0-8bcc-5bb4c2f8ff23",
   "metadata": {},
   "outputs": [],
   "source": [
    "def get_brochure_user_prompt(company_name, url):\n",
    "    user_prompt = f\"You are looking at a company called: {company_name}\\n\"\n",
    "    user_prompt += f\"Here are the contents of its landing page and other relevant pages; use this information to build a comprehensive brochure of the company in markdown.\\n\"\n",
    "    user_prompt += get_all_details(url)\n",
    "    user_prompt = user_prompt[:20_000] # Truncate if more than 20,000 characters\n",
    "    user_prompt += \"Respond in markdown\"\n",
    "    return user_prompt"
   ]
  },
  {
   "cell_type": "code",
   "execution_count": null,
   "id": "cd909e0b-1312-4ce2-a553-821e795d7572",
   "metadata": {},
   "outputs": [],
   "source": [
    "get_brochure_user_prompt(\"Anthropic\", \"https://anthropic.com\")"
   ]
  },
  {
   "cell_type": "code",
   "execution_count": 10,
   "id": "e44de579-4a1a-4e6a-a510-20ea3e4b8d46",
   "metadata": {},
   "outputs": [],
   "source": [
    "def create_brochure(company_name, url):\n",
    "    response = openai.chat.completions.create(\n",
    "        model=MODEL,\n",
    "        messages=[\n",
    "            {\"role\": \"system\", \"content\": system_prompt},\n",
    "            {\"role\": \"user\", \"content\": get_brochure_user_prompt(company_name, url)}\n",
    "          ],\n",
    "    )\n",
    "    result = response.choices[0].message.content\n",
    "    display(Markdown(result))"
   ]
  },
  {
   "cell_type": "code",
   "execution_count": null,
   "id": "e093444a-9407-42ae-924a-145730591a39",
   "metadata": {},
   "outputs": [],
   "source": [
    "create_brochure(\"Anthropic\", \"https://anthropic.com\")"
   ]
  },
  {
   "cell_type": "markdown",
   "id": "61eaaab7-0b47-4b29-82d4-75d474ad8d18",
   "metadata": {},
   "source": [
    "## Finally - a minor improvement\n",
    "\n",
    "With a small adjustment, we can change this so that the results stream back from OpenAI,\n",
    "with the familiar typewriter animation"
   ]
  },
  {
   "cell_type": "code",
   "execution_count": 11,
   "id": "51db0e49-f261-4137-aabe-92dd601f7725",
   "metadata": {},
   "outputs": [],
   "source": [
    "def stream_brochure(company_name, url):\n",
    "    stream = openai.chat.completions.create(\n",
    "        model=MODEL,\n",
    "        messages=[\n",
    "            {\"role\": \"system\", \"content\": system_prompt},\n",
    "            {\"role\": \"user\", \"content\": get_brochure_user_prompt(company_name, url)}\n",
    "          ],\n",
    "        stream=True\n",
    "    )\n",
    "    \n",
    "    response = \"\"\n",
    "    display_handle = display(Markdown(\"\"), display_id=True)\n",
    "    for chunk in stream:\n",
    "        response += chunk.choices[0].delta.content or ''\n",
    "        response = response.replace(\"```\",\"\").replace(\"markdown\", \"\")\n",
    "        update_display(Markdown(response), display_id=display_handle.display_id)"
   ]
  },
  {
   "cell_type": "code",
   "execution_count": 23,
   "id": "56bf0ae3-ee9d-4a72-9cd6-edcac67ceb6d",
   "metadata": {},
   "outputs": [
    {
     "name": "stdout",
     "output_type": "stream",
     "text": [
      "Found links: {'links': [{'type': 'about page', 'url': 'https://www.anthropic.com/company'}, {'type': 'careers page', 'url': 'https://www.anthropic.com/careers'}, {'type': 'team page', 'url': 'https://www.anthropic.com/team'}]}\n"
     ]
    },
    {
     "data": {
      "text/markdown": [
       "# Anthropic Company Brochure\n",
       "\n",
       "## About Us\n",
       "Anthropic is a pioneering AI safety and research company headquartered in San Francisco. Founded with the mission to develop reliable, interpretable, and steerable AI systems, we are committed to ensuring that transformative AI technologies benefit society as a whole. Our interdisciplinary team combines expertise in machine learning, physics, public policy, and product development, working collaboratively to advance AI safety and innovation.\n",
       "\n",
       "**Key Achievements:**\n",
       "- Introduction of Claude 3.5 Sonnet, our most advanced AI model, enhancing efficiency and creativity in various business applications.\n",
       "- Establishing partnerships that promote comprehensive AI safety standards and deployment methodologies.\n",
       "\n",
       "## Our Products/Services\n",
       "At Anthropic, we offer a suite of AI products and services designed to empower individuals and organizations:\n",
       "\n",
       "- **Claude AI Model:** Our flagship product, Claude, serves as a virtual collaborator, aiding in content creation, code debugging, and data analysis.\n",
       "- **Claude for Enterprise:** Tailored solutions that boost productivity and foster team collaboration across industries.\n",
       "- **API Access:** Developers can integrate Claude's capabilities into their applications, unlocking new revenue streams and operational efficiencies.\n",
       "\n",
       "**Unique Selling Points:**\n",
       "- Prioritization of safety and interpretability in AI model design.\n",
       "- A commitment to sharing insights and research findings to benefit the broader AI ecosystem.\n",
       "\n",
       "## Our Customers\n",
       "Our customer base spans diverse industries, including technology, finance, healthcare, and education. Notable clients leverage Anthropic’s solutions to enhance their operational capabilities and innovation strategies.\n",
       "\n",
       "**Target Audience:**\n",
       "- Businesses seeking to integrate advanced AI solutions to drive productivity.\n",
       "- Researchers and policy-makers interested in the safety and governance of AI technologies.\n",
       "\n",
       "## Company Culture\n",
       "At Anthropic, our culture is rooted in our mission to promote safe and beneficial AI. We value:\n",
       "\n",
       "- **High Trust Environment:** We assume good faith, prioritize honesty, and encourage open communication.\n",
       "- **Collaboration:** All employees are part of one big team working towards a common goal, with input encouraged from every member.\n",
       "- **Safety as a Science:** We apply rigorous research methodologies to our product development, ensuring the highest standards of AI safety.\n",
       "\n",
       "**Employee Initiatives:**\n",
       "- Enhanced health and wellness benefits, including mental health support, paid parental leave, and flexible time-off policies.\n",
       "- Ongoing training programs to promote personal and professional growth.\n",
       "\n",
       "## Careers/Jobs\n",
       "We are actively seeking talented individuals who share our vision of making AI safe and beneficial. At Anthropic, we offer:\n",
       "\n",
       "- **Comprehensive Benefits:** Including health, dental, vision, flexible wellness stipends, and competitive salary packages.\n",
       "- **Diverse Opportunities:** Roles available across research, engineering, policy, and operational teams.\n",
       "  \n",
       "**How to Apply:**\n",
       "Interested candidates can explore open positions and submit their resumes through our [Careers page](https://www.anthropic.com/careers).\n",
       "\n",
       "## Contact Us\n",
       "For inquiries regarding our products, partnership opportunities, or career openings, please reach out via:\n",
       "\n",
       "- **Email:** support@anthropic.com\n",
       "- **Phone:** (123) 456-7890\n",
       "- **Location:** San Francisco, CA\n",
       "- **Follow Us:** [Twitter](https://twitter.com/Anthropic) | [LinkedIn](https://linkedin.com/company/anthropic) | [YouTube](https://youtube.com/c/Anthropic)\n",
       "\n",
       "Join us in shaping the future of AI with safety and responsibility at the forefront!"
      ],
      "text/plain": [
       "<IPython.core.display.Markdown object>"
      ]
     },
     "metadata": {},
     "output_type": "display_data"
    }
   ],
   "source": [
    "brochure=stream_brochure(\"Anthropic\", \"https://anthropic.com\")"
   ]
  },
  {
   "cell_type": "code",
   "execution_count": null,
   "id": "fdb3f8d8-a3eb-41c8-b1aa-9f60686a653b",
   "metadata": {},
   "outputs": [],
   "source": [
    "# Try changing the system prompt to the humorous version when you make the Brochure for Hugging Face:\n",
    "stream_brochure(\"HuggingFace\", \"https://huggingface.co\")"
   ]
  },
  {
   "cell_type": "markdown",
   "id": "a27bf9e0-665f-4645-b66b-9725e2a959b5",
   "metadata": {},
   "source": [
    "<table style=\"margin: 0; text-align: left;\">\n",
    "    <tr>\n",
    "        <td style=\"width: 150px; height: 150px; vertical-align: middle;\">\n",
    "            <img src=\"../business.jpg\" width=\"150\" height=\"150\" style=\"display: block;\" />\n",
    "        </td>\n",
    "        <td>\n",
    "            <h2 style=\"color:#181;\">Business applications</h2>\n",
    "            <span style=\"color:#181;\">In this exercise we extended the Day 1 code to make multiple LLM calls, and generate a document.\n",
    "\n",
    "This is perhaps the first example of Agentic AI design patterns, as we combined multiple calls to LLMs. This will feature more in Week 2, and then we will return to Agentic AI in a big way in Week 8 when we build a fully autonomous Agent solution.\n",
    "\n",
    "Generating content in this way is one of the very most common Use Cases. As with summarization, this can be applied to any business vertical. Write marketing content, generate a product tutorial from a spec, create personalized email content, and so much more. Explore how you can apply content generation to your business, and try making yourself a proof-of-concept prototype.</span>\n",
    "        </td>\n",
    "    </tr>\n",
    "</table>"
   ]
  },
  {
   "cell_type": "markdown",
   "id": "1e7d3d58-2fe0-41c4-94a5-25fdb72995cf",
   "metadata": {},
   "source": [
    "## Creating a translation agent\n",
    "Translating english to any other language"
   ]
  },
  {
   "cell_type": "code",
   "execution_count": 32,
   "id": "284f2cd3-aa91-4662-b4c2-26b383b43718",
   "metadata": {},
   "outputs": [],
   "source": [
    "def system_prompt_trans(language):\n",
    "    return f\"\"\" You are a professional translator and writer specializing in creating and translating brochures. \n",
    "                Convert the brochure to {language} while maintaining its original tone, format, and purpose. You should not lose any information. \n",
    "                You should always respond in markdown.\"\"\""
   ]
  },
  {
   "cell_type": "code",
   "execution_count": 33,
   "id": "25dc298f-0ffe-4822-940f-4a3f16f27185",
   "metadata": {},
   "outputs": [],
   "source": [
    "def translate_brochure_user_prompt(company_name, url, language):\n",
    "    user_prompt = f\"You are receiving a brochure about a company called: {company_name}\\n\"\n",
    "    user_prompt += f\"Here is the contents of it that you should translate into {language}. Please respond in markdown\\n\"\n",
    "    user_prompt += str(brochure)\n",
    "    user_prompt += \"Dont lose any information\"\n",
    "    return user_prompt"
   ]
  },
  {
   "cell_type": "code",
   "execution_count": 34,
   "id": "0d9decc5-c25d-4b4a-9f64-d6e6be327aff",
   "metadata": {},
   "outputs": [],
   "source": [
    "def stream_translation(company_name, url, language):\n",
    "    stream = openai.chat.completions.create(\n",
    "        model=MODEL,\n",
    "        messages=[\n",
    "            {\"role\": \"system\", \"content\": system_prompt_trans(language)},\n",
    "            {\"role\": \"user\", \"content\": translate_brochure_user_prompt(company_name, url, language)}\n",
    "          ],\n",
    "        stream=True\n",
    "    )\n",
    "    \n",
    "    response = \"\"\n",
    "    display_handle = display(Markdown(\"\"), display_id=True)\n",
    "    for chunk in stream:\n",
    "        response += chunk.choices[0].delta.content or ''\n",
    "        response = response.replace(\"```\",\"\").replace(\"markdown\", \"\")\n",
    "        update_display(Markdown(response), display_id=display_handle.display_id)"
   ]
  },
  {
   "cell_type": "code",
   "execution_count": 35,
   "id": "105cf09e-2686-4ae9-84bd-6cf140b13422",
   "metadata": {},
   "outputs": [
    {
     "data": {
      "text/markdown": [
       "# Anthropic\n",
       "\n",
       "## Quiénes somos\n",
       "\n",
       "Anthropic es una empresa de inteligencia artificial dedicada a desarrollar tecnologías robustas y seguras. Nuestro objetivo es asegurar que el desarrollo de la inteligencia artificial esté alineado con los valores humanos y promueva un futuro positivo para todos.\n",
       "\n",
       "## Nuestra Misión\n",
       "\n",
       "Nuestra misión es investigar y construir sistemas de IA que sean interpretables, confiables y seguros. Creemos que la inteligencia artificial debe funcionar de manera que beneficie a la humanidad en lugar de ser un riesgo.\n",
       "\n",
       "## Nuestros Valores\n",
       "\n",
       "- **Seguridad:** Priorizamos la seguridad y la responsabilidad en el desarrollo de tecnologías de IA.\n",
       "- **Colaboración:** Fomentamos el trabajo en equipo para innovar y encontrar soluciones efectivas.\n",
       "- **Transparencia:** Creemos en la importancia de la transparencia en nuestras prácticas y decisiones.\n",
       "\n",
       "## Productos y Servicios\n",
       "\n",
       "Ofrecemos una variedad de servicios que incluyen:\n",
       "\n",
       "- **Modelos de IA:** Desarrollamos modelos avanzados de IA que son fáciles de usar y seguros.\n",
       "- **Consultoría:** Proporcionamos asesoramiento experto sobre la implementación y el impacto de la IA en sus proyectos.\n",
       "\n",
       "## Contáctenos\n",
       "\n",
       "¿Está interesado en colaborar con nosotros o desea más información acerca de nuestros servicios? No dude en contactarnos:\n",
       "\n",
       "- **Correo Electrónico:** info@anthropic.com\n",
       "- **Teléfono:** +1 (123) 456-7890\n",
       "- **Sitio Web:** www.anthropic.com\n",
       "\n",
       "---\n",
       "\n",
       "Acompáñenos en nuestra misión de construir el futuro de la inteligencia artificial de manera segura y responsable. ¡Estamos ansiosos por trabajar juntos!"
      ],
      "text/plain": [
       "<IPython.core.display.Markdown object>"
      ]
     },
     "metadata": {},
     "output_type": "display_data"
    }
   ],
   "source": [
    "stream_translation(\"Anthropic\", \"https://anthropic.com\", \"Spanish\")"
   ]
  }
 ],
 "metadata": {
  "kernelspec": {
   "display_name": "Python 3 (ipykernel)",
   "language": "python",
   "name": "python3"
  },
  "language_info": {
   "codemirror_mode": {
    "name": "ipython",
    "version": 3
   },
   "file_extension": ".py",
   "mimetype": "text/x-python",
   "name": "python",
   "nbconvert_exporter": "python",
   "pygments_lexer": "ipython3",
   "version": "3.11.10"
  }
 },
 "nbformat": 4,
 "nbformat_minor": 5
}
