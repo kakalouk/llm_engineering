{
 "cells": [
  {
   "cell_type": "markdown",
   "id": "fe12c203-e6a6-452c-a655-afb8a03a4ff5",
   "metadata": {},
   "source": [
    "# End of week 1 exercise\n",
    "\n",
    "To demonstrate your familiarity with OpenAI API, and also Ollama, build a tool that takes a technical question,  \n",
    "and responds with an explanation. This is a tool that you will be able to use yourself during the course!"
   ]
  },
  {
   "cell_type": "code",
   "execution_count": 1,
   "id": "c1070317-3ed9-4659-abe3-828943230e03",
   "metadata": {},
   "outputs": [],
   "source": [
    "# imports\n",
    "import os\n",
    "import requests\n",
    "import json\n",
    "from typing import List\n",
    "from dotenv import load_dotenv\n",
    "from bs4 import BeautifulSoup\n",
    "from IPython.display import Markdown, display, update_display\n",
    "from openai import OpenAI\n",
    "import ollama"
   ]
  },
  {
   "cell_type": "code",
   "execution_count": 2,
   "id": "4a456906-915a-4bfd-bb9d-57e505c5093f",
   "metadata": {},
   "outputs": [],
   "source": [
    "# constants\n",
    "MODEL_GPT = 'gpt-4o-mini'\n",
    "MODEL_LLAMA = 'llama3.2'"
   ]
  },
  {
   "cell_type": "code",
   "execution_count": 3,
   "id": "a8d7923c-5f28-4c30-8556-342d7c8497c1",
   "metadata": {},
   "outputs": [
    {
     "name": "stdout",
     "output_type": "stream",
     "text": [
      "API key looks good so far\n"
     ]
    }
   ],
   "source": [
    "# set up environment\n",
    "load_dotenv()\n",
    "api_key = os.getenv('OPENAI_API_KEY')\n",
    "\n",
    "if api_key and api_key.startswith('sk-proj-') and len(api_key)>10:\n",
    "    print(\"API key looks good so far\")\n",
    "else:\n",
    "    print(\"There might be a problem with your API key? Please visit the troubleshooting notebook!\")\n",
    "\n",
    "openai = OpenAI()"
   ]
  },
  {
   "cell_type": "code",
   "execution_count": null,
   "id": "3f0d0137-52b0-47a8-81a8-11a90a010798",
   "metadata": {},
   "outputs": [],
   "source": [
    "# here is the question; type over this to ask something new\n",
    "\n",
    "question = \"\"\"\n",
    "Please explain what this code does and why:\n",
    "yield from {book.get(\"author\") for book in books if book.get(\"author\")}\n",
    "\"\"\""
   ]
  },
  {
   "cell_type": "code",
   "execution_count": 4,
   "id": "2702726e-6d9e-4a4b-8465-2768c7b5de9f",
   "metadata": {},
   "outputs": [],
   "source": [
    "system_prompt = \"\"\" You are an expert programmer and tutor that receives questions from users and helps them solve their problems, \n",
    "or gives them detailed explanations about their requests. Keep in mind that the users are not as experienced as you are, so please be precise and detailed.\"\"\""
   ]
  },
  {
   "cell_type": "code",
   "execution_count": 5,
   "id": "72f3fa32-47eb-4617-869e-506c69a378e6",
   "metadata": {},
   "outputs": [],
   "source": [
    "def user_prompt(question):\n",
    "    user_prompt = f\"\"\" The question you to have to answer to and help the user is this:{question}. \n",
    "    Please give your answer in steps and be as detailed and simple as you can\"\"\"\n",
    "    user_prompt += \"Respond in markdown\"\n",
    "    return user_prompt"
   ]
  },
  {
   "cell_type": "code",
   "execution_count": 6,
   "id": "60ce7000-a4a5-4cce-a261-e75ef45063b4",
   "metadata": {},
   "outputs": [],
   "source": [
    "# Get gpt-4o-mini to answer, with streaming\n",
    "\n",
    "def stream_answer(question):\n",
    "    stream = openai.chat.completions.create(\n",
    "        model=MODEL_GPT,\n",
    "        messages=[\n",
    "            {\"role\": \"system\", \"content\": system_prompt},\n",
    "            {\"role\": \"user\", \"content\": user_prompt(question)}\n",
    "          ],\n",
    "        stream=True\n",
    "    )\n",
    "    \n",
    "    response = \"\"\n",
    "    display_handle = display(Markdown(\"\"), display_id=True)\n",
    "    for chunk in stream:\n",
    "        response += chunk.choices[0].delta.content or ''\n",
    "        response = response.replace(\"```\",\"\").replace(\"markdown\", \"\")\n",
    "        update_display(Markdown(response), display_id=display_handle.display_id)"
   ]
  },
  {
   "cell_type": "code",
   "execution_count": 7,
   "id": "6558094d-8d09-4e6c-8a8a-5ed5f9fe577c",
   "metadata": {},
   "outputs": [
    {
     "name": "stdin",
     "output_type": "stream",
     "text": [
      "Please enter your question:  How can we drop a dataframe column in pyhton?\n"
     ]
    },
    {
     "data": {
      "text/markdown": [
       "Certainly! Here's a detailed and step-by-step guide on how to drop a column from a DataFrame in Python using the pandas library.\n",
       "\n",
       "### Steps to Drop a DataFrame Column in Python\n",
       "\n",
       "1. **Install pandas**: First, ensure you have the pandas library installed. If you haven't installed it yet, you can do so using pip. Open your command line interface (CLI) and type:\n",
       "\n",
       "   bash\n",
       "   pip install pandas\n",
       "   \n",
       "\n",
       "2. **Import the pandas library**: Before you can work with DataFrames, you need to import pandas in your Python script or interactive environment (like Jupyter Notebook). You typically do this with the following import statement:\n",
       "\n",
       "   python\n",
       "   import pandas as pd\n",
       "   \n",
       "\n",
       "3. **Create or load a DataFrame**: You need a DataFrame to work with. You can either create one manually or load data from a file (such as a CSV). Here's an example of creating a simple DataFrame:\n",
       "\n",
       "   python\n",
       "   data = {\n",
       "       'Name': ['Alice', 'Bob', 'Charlie'],\n",
       "       'Age': [25, 30, 35],\n",
       "       'City': ['New York', 'Los Angeles', 'Chicago']\n",
       "   }\n",
       "\n",
       "   df = pd.DataFrame(data)\n",
       "   \n",
       "\n",
       "4. **View the existing DataFrame**: It's useful to see what your DataFrame looks like before dropping a column. You can print it using:\n",
       "\n",
       "   python\n",
       "   print(df)\n",
       "   \n",
       "\n",
       "   This will display:\n",
       "   \n",
       "       Name  Age         City\n",
       "   0  Alice   25     New York\n",
       "   1    Bob   30  Los Angeles\n",
       "   2 Charlie   35      Chicago\n",
       "   \n",
       "\n",
       "5. **Drop a column**: You can drop a column using the `drop()` method. Specify the column name you want to drop and set the `axis` parameter to `1` (since columns are along the axis 1). You can also use the `inplace` parameter to modify the DataFrame directly or return a new one.\n",
       "\n",
       "   - **Method 1: Using `inplace` parameter**\n",
       "\n",
       "   python\n",
       "   df.drop('City', axis=1, inplace=True)\n",
       "   \n",
       "\n",
       "   - **Method 2: Returning a new DataFrame**\n",
       "\n",
       "   If you want to keep the original DataFrame, you can create a new one:\n",
       "\n",
       "   python\n",
       "   df_new = df.drop('City', axis=1)\n",
       "   \n",
       "\n",
       "6. **View the modified DataFrame**: After dropping the column, it’s a good idea to check the DataFrame again to ensure the column has been removed:\n",
       "\n",
       "   python\n",
       "   print(df)\n",
       "   \n",
       "\n",
       "   If you used the `inplace=True` method, it will display:\n",
       "   \n",
       "       Name  Age\n",
       "   0  Alice   25\n",
       "   1    Bob   30\n",
       "   2 Charlie   35\n",
       "   \n",
       "\n",
       "   If you created a new DataFrame, `df_new` will show:\n",
       "   \n",
       "       Name  Age\n",
       "   0  Alice   25\n",
       "   1    Bob   30\n",
       "   2 Charlie   35\n",
       "   \n",
       "\n",
       "7. **Additional Notes**:\n",
       "   - You can drop multiple columns by passing a list of column names:\n",
       "     python\n",
       "     df.drop(['Age', 'City'], axis=1, inplace=True)\n",
       "     \n",
       "   - Always ensure that the column you want to drop exists in the DataFrame to avoid a `KeyError`.\n",
       "\n",
       "By following these steps, you can easily drop a column from a DataFrame in Python using pandas. If you have any further questions or need additional clarifications, feel free to ask!"
      ],
      "text/plain": [
       "<IPython.core.display.Markdown object>"
      ]
     },
     "metadata": {},
     "output_type": "display_data"
    }
   ],
   "source": [
    " # Prompt user for their question\n",
    "question = input(\"Please enter your question: \")\n",
    "# Fetch and display responses from models\n",
    "stream_answer(question)"
   ]
  },
  {
   "cell_type": "code",
   "execution_count": null,
   "id": "8f7c8ea8-4082-4ad0-8751-3301adcf6538",
   "metadata": {},
   "outputs": [],
   "source": [
    "# Get Llama 3.2 to answer"
   ]
  },
  {
   "cell_type": "code",
   "execution_count": null,
   "id": "4c71f06b-d6e6-4c2a-b38b-f1a70ce537e3",
   "metadata": {},
   "outputs": [],
   "source": [
    "def messages(question):\n",
    "    messages=[\n",
    "            {\"role\": \"system\", \"content\": system_prompt},\n",
    "            {\"role\": \"user\", \"content\": user_prompt(question)}\n",
    "             ]\n",
    "    return messages"
   ]
  },
  {
   "cell_type": "code",
   "execution_count": null,
   "id": "d49eaa52-49b0-45b0-ad59-90ec45bc4cbc",
   "metadata": {},
   "outputs": [],
   "source": [
    "def lamma_response(question): \n",
    "    response = ollama.chat(model=MODEL_LLAMA, messages=messages(question))\n",
    "    reply = response['message']['content']\n",
    "    display(Markdown(reply))"
   ]
  },
  {
   "cell_type": "code",
   "execution_count": null,
   "id": "9e9a0a98-e173-4040-87c8-af5eba6e14e9",
   "metadata": {},
   "outputs": [],
   "source": [
    "lamma_response(question)"
   ]
  }
 ],
 "metadata": {
  "kernelspec": {
   "display_name": "Python 3 (ipykernel)",
   "language": "python",
   "name": "python3"
  },
  "language_info": {
   "codemirror_mode": {
    "name": "ipython",
    "version": 3
   },
   "file_extension": ".py",
   "mimetype": "text/x-python",
   "name": "python",
   "nbconvert_exporter": "python",
   "pygments_lexer": "ipython3",
   "version": "3.11.10"
  }
 },
 "nbformat": 4,
 "nbformat_minor": 5
}
